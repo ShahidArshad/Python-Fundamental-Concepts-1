{
 "cells": [
  {
   "cell_type": "markdown",
   "id": "fdcee9e2",
   "metadata": {},
   "source": [
    "# Python Lists"
   ]
  },
  {
   "cell_type": "code",
   "execution_count": null,
   "id": "254d3443",
   "metadata": {},
   "outputs": [],
   "source": []
  },
  {
   "cell_type": "code",
   "execution_count": null,
   "id": "da9908fd",
   "metadata": {},
   "outputs": [],
   "source": []
  },
  {
   "cell_type": "markdown",
   "id": "7b17862c",
   "metadata": {},
   "source": [
    "# For Loop"
   ]
  },
  {
   "cell_type": "code",
   "execution_count": 1,
   "id": "d3eb5a35",
   "metadata": {},
   "outputs": [
    {
     "name": "stdout",
     "output_type": "stream",
     "text": [
      "1\n",
      "2\n",
      "3\n"
     ]
    }
   ],
   "source": [
    "for num in [1, 2, 3]:\n",
    "  print(num)"
   ]
  },
  {
   "cell_type": "code",
   "execution_count": 2,
   "id": "eea2c3d2",
   "metadata": {},
   "outputs": [
    {
     "name": "stdout",
     "output_type": "stream",
     "text": [
      "1\n",
      "2\n",
      "3\n"
     ]
    }
   ],
   "source": [
    "print([1,2,3][0])\n",
    "print([1,2,3][1])\n",
    "print([1,2,3][2])"
   ]
  },
  {
   "cell_type": "code",
   "execution_count": 3,
   "id": "8653d37d",
   "metadata": {},
   "outputs": [
    {
     "name": "stdout",
     "output_type": "stream",
     "text": [
      "1\n",
      "2\n",
      "3\n"
     ]
    }
   ],
   "source": [
    "for index in [0, 1, 2]:\n",
    "  print([1,2,3][index])"
   ]
  },
  {
   "cell_type": "code",
   "execution_count": 4,
   "id": "adede6ff",
   "metadata": {},
   "outputs": [
    {
     "name": "stdout",
     "output_type": "stream",
     "text": [
      "1\n",
      "2\n",
      "3\n"
     ]
    }
   ],
   "source": [
    "print([1,2,3][0])\n",
    "print([1,2,3][1])\n",
    "print([1,2,3][2])"
   ]
  },
  {
   "cell_type": "markdown",
   "id": "bb41e6b8",
   "metadata": {},
   "source": [
    "# Variables"
   ]
  },
  {
   "cell_type": "code",
   "execution_count": 5,
   "id": "34be0c1f",
   "metadata": {},
   "outputs": [
    {
     "name": "stdout",
     "output_type": "stream",
     "text": [
      "1\n"
     ]
    }
   ],
   "source": [
    "index = 1\n",
    "print(index)"
   ]
  },
  {
   "cell_type": "code",
   "execution_count": 6,
   "id": "06d0ce5a",
   "metadata": {},
   "outputs": [
    {
     "name": "stdout",
     "output_type": "stream",
     "text": [
      "2\n"
     ]
    }
   ],
   "source": [
    "index = 2\n",
    "print(index)"
   ]
  },
  {
   "cell_type": "code",
   "execution_count": 7,
   "id": "976f9c57",
   "metadata": {},
   "outputs": [
    {
     "data": {
      "text/plain": [
       "'Hey'"
      ]
     },
     "execution_count": 7,
     "metadata": {},
     "output_type": "execute_result"
    }
   ],
   "source": [
    "index = \"Hey\"\n",
    "index"
   ]
  },
  {
   "cell_type": "markdown",
   "id": "acd9b89f",
   "metadata": {},
   "source": [
    "# Basic Arithematic"
   ]
  },
  {
   "cell_type": "code",
   "execution_count": 1,
   "id": "6d2b5468",
   "metadata": {},
   "outputs": [],
   "source": [
    "num = 5"
   ]
  },
  {
   "cell_type": "code",
   "execution_count": 2,
   "id": "802d89ff",
   "metadata": {},
   "outputs": [
    {
     "data": {
      "text/plain": [
       "2"
      ]
     },
     "execution_count": 2,
     "metadata": {},
     "output_type": "execute_result"
    }
   ],
   "source": [
    "num % 3"
   ]
  },
  {
   "cell_type": "code",
   "execution_count": 3,
   "id": "b9bfa439",
   "metadata": {},
   "outputs": [
    {
     "data": {
      "text/plain": [
       "2"
      ]
     },
     "execution_count": 3,
     "metadata": {},
     "output_type": "execute_result"
    }
   ],
   "source": [
    "a = 1\n",
    "a += 1\n",
    "a"
   ]
  },
  {
   "cell_type": "code",
   "execution_count": 4,
   "id": "076aa1fd",
   "metadata": {},
   "outputs": [
    {
     "name": "stdout",
     "output_type": "stream",
     "text": [
      "1\n",
      "2\n",
      "3\n"
     ]
    },
    {
     "data": {
      "text/plain": [
       "1"
      ]
     },
     "execution_count": 4,
     "metadata": {},
     "output_type": "execute_result"
    }
   ],
   "source": [
    "a = 0\n",
    "print([1, 2, 3][a])\n",
    "a += 1\n",
    "print([1, 2, 3][a])\n",
    "a += 1\n",
    "print([1, 2, 3][a])\n",
    "1"
   ]
  },
  {
   "cell_type": "markdown",
   "id": "d607d761",
   "metadata": {},
   "source": [
    "# While Loop"
   ]
  },
  {
   "cell_type": "code",
   "execution_count": 5,
   "id": "9ba882d4",
   "metadata": {},
   "outputs": [
    {
     "name": "stdout",
     "output_type": "stream",
     "text": [
      "1\n",
      "2\n",
      "3\n"
     ]
    }
   ],
   "source": [
    "for index in [0, 1, 2]:\n",
    "  print([1, 2, 3][index])"
   ]
  },
  {
   "cell_type": "code",
   "execution_count": 6,
   "id": "29bdacc7",
   "metadata": {},
   "outputs": [
    {
     "name": "stdout",
     "output_type": "stream",
     "text": [
      "1\n",
      "2\n",
      "3\n",
      "Done\n"
     ]
    }
   ],
   "source": [
    "a = 0\n",
    "while a < 3:\n",
    "  print([1, 2, 3][a])\n",
    "  a += 1\n",
    "print('Done')"
   ]
  },
  {
   "cell_type": "markdown",
   "id": "57c34f09",
   "metadata": {},
   "source": [
    "# Conditionals "
   ]
  },
  {
   "cell_type": "code",
   "execution_count": 7,
   "id": "16c7250f",
   "metadata": {},
   "outputs": [
    {
     "name": "stdout",
     "output_type": "stream",
     "text": [
      "a is greater than 4\n"
     ]
    }
   ],
   "source": [
    "a = 5\n",
    "if a < 2:\n",
    "  print(\"a is less than 2\")\n",
    "elif a > 4:\n",
    "  print(\"a is greater than 4\")\n",
    "else:\n",
    "  print(\"a is not less than 2 and it is not greater than 4\")"
   ]
  },
  {
   "cell_type": "code",
   "execution_count": 8,
   "id": "cf553c49",
   "metadata": {},
   "outputs": [
    {
     "data": {
      "text/plain": [
       "bool"
      ]
     },
     "execution_count": 8,
     "metadata": {},
     "output_type": "execute_result"
    }
   ],
   "source": [
    "type(a < 4)"
   ]
  },
  {
   "cell_type": "markdown",
   "id": "724fbd26",
   "metadata": {},
   "source": [
    "# Functions "
   ]
  },
  {
   "cell_type": "code",
   "execution_count": 9,
   "id": "9deb2651",
   "metadata": {},
   "outputs": [
    {
     "data": {
      "text/plain": [
       "<function print>"
      ]
     },
     "execution_count": 9,
     "metadata": {},
     "output_type": "execute_result"
    }
   ],
   "source": [
    "print"
   ]
  },
  {
   "cell_type": "code",
   "execution_count": 10,
   "id": "bcccc266",
   "metadata": {},
   "outputs": [],
   "source": [
    "def my_print(a, b):\n",
    "  print(a)\n",
    "  print(b)"
   ]
  },
  {
   "cell_type": "code",
   "execution_count": 11,
   "id": "9fdecbf4",
   "metadata": {},
   "outputs": [
    {
     "name": "stdout",
     "output_type": "stream",
     "text": [
      "d\n",
      "t\n"
     ]
    }
   ],
   "source": [
    "my_print('d', 't')"
   ]
  },
  {
   "cell_type": "code",
   "execution_count": 12,
   "id": "4c41210c",
   "metadata": {},
   "outputs": [],
   "source": [
    "def p(x):\n",
    "  y = 4\n",
    "  print(x)"
   ]
  },
  {
   "cell_type": "code",
   "execution_count": 13,
   "id": "69feef3a",
   "metadata": {},
   "outputs": [
    {
     "name": "stdout",
     "output_type": "stream",
     "text": [
      "Shahid\n"
     ]
    }
   ],
   "source": [
    "p('Shahid')"
   ]
  },
  {
   "cell_type": "code",
   "execution_count": 14,
   "id": "daababbe",
   "metadata": {},
   "outputs": [
    {
     "name": "stdout",
     "output_type": "stream",
     "text": [
      "z is not less than 5\n",
      "2\n"
     ]
    }
   ],
   "source": [
    "z = 5\n",
    "\n",
    "if z < 5:\n",
    "  a = 1\n",
    "  print('z is less than 5')\n",
    "else:\n",
    "  b = 2\n",
    "  print('z is not less than 5')\n",
    "  print(b)"
   ]
  },
  {
   "cell_type": "code",
   "execution_count": 15,
   "id": "b09d8fa4",
   "metadata": {},
   "outputs": [
    {
     "ename": "NameError",
     "evalue": "name 'y' is not defined",
     "output_type": "error",
     "traceback": [
      "\u001b[1;31m---------------------------------------------------------------------------\u001b[0m",
      "\u001b[1;31mNameError\u001b[0m                                 Traceback (most recent call last)",
      "\u001b[1;32m<ipython-input-15-9063a9f0e032>\u001b[0m in \u001b[0;36m<module>\u001b[1;34m\u001b[0m\n\u001b[1;32m----> 1\u001b[1;33m \u001b[0my\u001b[0m\u001b[1;33m\u001b[0m\u001b[1;33m\u001b[0m\u001b[0m\n\u001b[0m",
      "\u001b[1;31mNameError\u001b[0m: name 'y' is not defined"
     ]
    }
   ],
   "source": [
    "y"
   ]
  },
  {
   "cell_type": "code",
   "execution_count": 16,
   "id": "82029e98",
   "metadata": {},
   "outputs": [
    {
     "data": {
      "text/plain": [
       "7"
      ]
     },
     "execution_count": 16,
     "metadata": {},
     "output_type": "execute_result"
    }
   ],
   "source": [
    "x = 7\n",
    "x"
   ]
  },
  {
   "cell_type": "code",
   "execution_count": 17,
   "id": "7cf5d859",
   "metadata": {},
   "outputs": [],
   "source": [
    "def f(x):\n",
    "  print(x)"
   ]
  },
  {
   "cell_type": "code",
   "execution_count": 18,
   "id": "7bc64bd9",
   "metadata": {},
   "outputs": [
    {
     "name": "stdout",
     "output_type": "stream",
     "text": [
      "6\n"
     ]
    }
   ],
   "source": [
    "f(6)"
   ]
  },
  {
   "cell_type": "code",
   "execution_count": 19,
   "id": "3774e127",
   "metadata": {},
   "outputs": [],
   "source": [
    "def g(x):\n",
    "  print(x)"
   ]
  },
  {
   "cell_type": "code",
   "execution_count": 20,
   "id": "1c4646e2",
   "metadata": {},
   "outputs": [
    {
     "name": "stdout",
     "output_type": "stream",
     "text": [
      "2\n"
     ]
    }
   ],
   "source": [
    "g(2)"
   ]
  },
  {
   "cell_type": "code",
   "execution_count": 21,
   "id": "4233cf1b",
   "metadata": {},
   "outputs": [
    {
     "data": {
      "text/plain": [
       "7"
      ]
     },
     "execution_count": 21,
     "metadata": {},
     "output_type": "execute_result"
    }
   ],
   "source": [
    "x"
   ]
  },
  {
   "cell_type": "code",
   "execution_count": null,
   "id": "3d03b857",
   "metadata": {},
   "outputs": [],
   "source": []
  },
  {
   "cell_type": "code",
   "execution_count": 22,
   "id": "537226b5",
   "metadata": {},
   "outputs": [],
   "source": [
    "def f(x):\n",
    "  print(x)\n",
    "  if x < 0:\n",
    "    return -x\n",
    "  else:\n",
    "    return x"
   ]
  },
  {
   "cell_type": "code",
   "execution_count": 23,
   "id": "00aae523",
   "metadata": {},
   "outputs": [
    {
     "name": "stdout",
     "output_type": "stream",
     "text": [
      "-5\n"
     ]
    }
   ],
   "source": [
    "a = f(-5)"
   ]
  },
  {
   "cell_type": "code",
   "execution_count": 24,
   "id": "c3cff00c",
   "metadata": {},
   "outputs": [
    {
     "name": "stdout",
     "output_type": "stream",
     "text": [
      "5\n"
     ]
    },
    {
     "data": {
      "text/plain": [
       "5"
      ]
     },
     "execution_count": 24,
     "metadata": {},
     "output_type": "execute_result"
    }
   ],
   "source": [
    "x = 5\n",
    "f(x)"
   ]
  },
  {
   "cell_type": "markdown",
   "id": "98acf763",
   "metadata": {},
   "source": [
    "# Comparision Operator"
   ]
  },
  {
   "cell_type": "code",
   "execution_count": 25,
   "id": "616495c3",
   "metadata": {},
   "outputs": [
    {
     "data": {
      "text/plain": [
       "True"
      ]
     },
     "execution_count": 25,
     "metadata": {},
     "output_type": "execute_result"
    }
   ],
   "source": [
    "x = 7\n",
    "not x != 7\n",
    "True"
   ]
  },
  {
   "cell_type": "code",
   "execution_count": 26,
   "id": "f241670a",
   "metadata": {},
   "outputs": [
    {
     "data": {
      "text/plain": [
       "False"
      ]
     },
     "execution_count": 26,
     "metadata": {},
     "output_type": "execute_result"
    }
   ],
   "source": [
    "not True\n"
   ]
  },
  {
   "cell_type": "code",
   "execution_count": null,
   "id": "7b4d96d4",
   "metadata": {},
   "outputs": [],
   "source": []
  },
  {
   "cell_type": "markdown",
   "id": "d5625fba",
   "metadata": {},
   "source": [
    "# Rane Functions"
   ]
  },
  {
   "cell_type": "code",
   "execution_count": 27,
   "id": "9437cd67",
   "metadata": {},
   "outputs": [
    {
     "name": "stdout",
     "output_type": "stream",
     "text": [
      "1\n",
      "2\n",
      "3\n",
      "4\n",
      "5\n",
      "6\n",
      "7\n",
      "8\n",
      "9\n",
      "10\n"
     ]
    }
   ],
   "source": [
    "lst = [1, 2, 3, 4, 5, 6, 7, 8, 9, 10]\n",
    "for val in lst:\n",
    "  print(val)"
   ]
  },
  {
   "cell_type": "code",
   "execution_count": 28,
   "id": "67a5339b",
   "metadata": {},
   "outputs": [
    {
     "data": {
      "text/plain": [
       "[0, 1, 2, 3]"
      ]
     },
     "execution_count": 28,
     "metadata": {},
     "output_type": "execute_result"
    }
   ],
   "source": [
    "lst = [1, 2, 3, 4]\n",
    "list(range(len(lst)))"
   ]
  },
  {
   "cell_type": "markdown",
   "id": "fb57f757",
   "metadata": {},
   "source": [
    "# String Concatination"
   ]
  },
  {
   "cell_type": "code",
   "execution_count": 29,
   "id": "f86d4fc9",
   "metadata": {},
   "outputs": [
    {
     "data": {
      "text/plain": [
       "'The average is 7!'"
      ]
     },
     "execution_count": 29,
     "metadata": {},
     "output_type": "execute_result"
    }
   ],
   "source": [
    "avg = 7\n",
    "\"The average is \" + str(avg) + \"!\""
   ]
  },
  {
   "cell_type": "code",
   "execution_count": 30,
   "id": "f6943f0b",
   "metadata": {},
   "outputs": [
    {
     "data": {
      "text/plain": [
       "'7.56'"
      ]
     },
     "execution_count": 30,
     "metadata": {},
     "output_type": "execute_result"
    }
   ],
   "source": [
    "str(7.56)"
   ]
  },
  {
   "cell_type": "markdown",
   "id": "d128a904",
   "metadata": {},
   "source": [
    "# Final Project\n",
    "Create a function , where .\n",
    "\n",
    " outputs, one line at a time, each number between 1 and  inclusive. Within that line, it states whether the number is even or odd.\n",
    "\n",
    "Example:\n",
    "\n",
    " ->\n",
    "\n",
    "1 is odd\n",
    "\n",
    "2 is even\n",
    "\n",
    "3 is odd\n",
    "\n",
    "4 is even\n",
    "\n",
    "5 is odd\n",
    "\n",
    "6 is even\n",
    "\n",
    "7 is odd"
   ]
  },
  {
   "cell_type": "code",
   "execution_count": 31,
   "id": "a36e66ea",
   "metadata": {},
   "outputs": [],
   "source": [
    "def f(n):\n",
    "  for val in range(1, n + 1):\n",
    "    if (val % 2) == 0:\n",
    "      print(str(val) + \" is even.\")\n",
    "    else:\n",
    "      print(str(val) + \" is odd.\")"
   ]
  },
  {
   "cell_type": "code",
   "execution_count": 32,
   "id": "a68debae",
   "metadata": {},
   "outputs": [
    {
     "name": "stdout",
     "output_type": "stream",
     "text": [
      "1 is odd.\n",
      "2 is even.\n",
      "3 is odd.\n",
      "4 is even.\n",
      "5 is odd.\n",
      "6 is even.\n"
     ]
    }
   ],
   "source": [
    "f(6)"
   ]
  },
  {
   "cell_type": "code",
   "execution_count": null,
   "id": "ea144cec",
   "metadata": {},
   "outputs": [],
   "source": []
  },
  {
   "cell_type": "markdown",
   "id": "29b34c82",
   "metadata": {},
   "source": [
    "# List in Depth"
   ]
  },
  {
   "cell_type": "code",
   "execution_count": 33,
   "id": "e98b8653",
   "metadata": {},
   "outputs": [],
   "source": [
    "lst2 = [2, 4, 5, 7, 8, 9]"
   ]
  },
  {
   "cell_type": "code",
   "execution_count": 34,
   "id": "a5c5f87d",
   "metadata": {},
   "outputs": [],
   "source": [
    "even_vals = []\n",
    "\n",
    "for val in lst2:\n",
    "  if (val % 2) == 0:\n",
    "    even_vals += [val]"
   ]
  },
  {
   "cell_type": "code",
   "execution_count": 35,
   "id": "d1c88481",
   "metadata": {},
   "outputs": [
    {
     "data": {
      "text/plain": [
       "[2, 4, 8]"
      ]
     },
     "execution_count": 35,
     "metadata": {},
     "output_type": "execute_result"
    }
   ],
   "source": [
    "even_vals"
   ]
  },
  {
   "cell_type": "code",
   "execution_count": 36,
   "id": "0991e59e",
   "metadata": {},
   "outputs": [
    {
     "data": {
      "text/plain": [
       "8"
      ]
     },
     "execution_count": 36,
     "metadata": {},
     "output_type": "execute_result"
    }
   ],
   "source": [
    "even_vals.pop()"
   ]
  },
  {
   "cell_type": "code",
   "execution_count": 37,
   "id": "f4fefff1",
   "metadata": {},
   "outputs": [],
   "source": [
    "even_vals = [1]"
   ]
  },
  {
   "cell_type": "code",
   "execution_count": 38,
   "id": "4d2aa683",
   "metadata": {},
   "outputs": [
    {
     "name": "stdout",
     "output_type": "stream",
     "text": [
      "There is something in even_vals\n"
     ]
    }
   ],
   "source": [
    "if even_vals:\n",
    "  print('There is something in even_vals')"
   ]
  },
  {
   "cell_type": "code",
   "execution_count": null,
   "id": "9fc2848b",
   "metadata": {},
   "outputs": [],
   "source": []
  },
  {
   "cell_type": "markdown",
   "id": "3b32cf8b",
   "metadata": {},
   "source": [
    "# Dictionaries "
   ]
  },
  {
   "cell_type": "code",
   "execution_count": 4,
   "id": "c1fa9543",
   "metadata": {},
   "outputs": [],
   "source": [
    "names =  ['Shahid', 'Imran', 'Roman']\n",
    "colors = ['Red', 'Orange', 'Blue']\n",
    "indices =[0,        1,        2]"
   ]
  },
  {
   "cell_type": "code",
   "execution_count": 5,
   "id": "db4faaaf",
   "metadata": {},
   "outputs": [],
   "source": [
    "names_and_colors = ['Shahid', 'Imran', 'Roman', 'Orange', 'Jeff', 'Blue']"
   ]
  },
  {
   "cell_type": "code",
   "execution_count": 6,
   "id": "7cbce4f5",
   "metadata": {},
   "outputs": [],
   "source": [
    "names_and_colors_dict = {'Shahid':'Red', 'Imran':'Orange', 'Roman':'Blue'}"
   ]
  },
  {
   "cell_type": "code",
   "execution_count": 10,
   "id": "49dae774",
   "metadata": {},
   "outputs": [
    {
     "data": {
      "text/plain": [
       "'Red'"
      ]
     },
     "execution_count": 10,
     "metadata": {},
     "output_type": "execute_result"
    }
   ],
   "source": [
    "names_and_colors_dict['Shahid']"
   ]
  },
  {
   "cell_type": "code",
   "execution_count": 11,
   "id": "baf7a6b9",
   "metadata": {},
   "outputs": [
    {
     "data": {
      "text/plain": [
       "'Orange'"
      ]
     },
     "execution_count": 11,
     "metadata": {},
     "output_type": "execute_result"
    }
   ],
   "source": [
    "names_and_colors_dict['Imran']"
   ]
  },
  {
   "cell_type": "code",
   "execution_count": 12,
   "id": "7862466b",
   "metadata": {},
   "outputs": [],
   "source": [
    "names_and_colors_dict['Imran'] = 'Pink'"
   ]
  },
  {
   "cell_type": "code",
   "execution_count": 13,
   "id": "8eb5a16a",
   "metadata": {},
   "outputs": [
    {
     "data": {
      "text/plain": [
       "{'Shahid': 'Red', 'Imran': 'Pink', 'Roman': 'Blue'}"
      ]
     },
     "execution_count": 13,
     "metadata": {},
     "output_type": "execute_result"
    }
   ],
   "source": [
    "names_and_colors_dict"
   ]
  },
  {
   "cell_type": "code",
   "execution_count": 15,
   "id": "42723e9b",
   "metadata": {},
   "outputs": [],
   "source": [
    "names_and_colors_dict['Sarah'] = 'Green'"
   ]
  },
  {
   "cell_type": "code",
   "execution_count": 16,
   "id": "09d4a1cf",
   "metadata": {},
   "outputs": [
    {
     "data": {
      "text/plain": [
       "{'Shahid': 'Red', 'Imran': 'Pink', 'Roman': 'Blue', 'Sarah': 'Green'}"
      ]
     },
     "execution_count": 16,
     "metadata": {},
     "output_type": "execute_result"
    }
   ],
   "source": [
    "names_and_colors_dict"
   ]
  },
  {
   "cell_type": "code",
   "execution_count": 17,
   "id": "a1f1f007",
   "metadata": {},
   "outputs": [
    {
     "name": "stdout",
     "output_type": "stream",
     "text": [
      "Shahid's favorite color is Red\n",
      "Imran's favorite color is Pink\n",
      "Roman's favorite color is Blue\n",
      "Sarah's favorite color is Green\n"
     ]
    }
   ],
   "source": [
    "for name in names_and_colors_dict:\n",
    "  print(name + \"'s favorite color is \" + names_and_colors_dict[name])"
   ]
  },
  {
   "cell_type": "code",
   "execution_count": null,
   "id": "05e52c7a",
   "metadata": {},
   "outputs": [],
   "source": []
  },
  {
   "cell_type": "markdown",
   "id": "94815ddb",
   "metadata": {},
   "source": [
    "# Sets"
   ]
  },
  {
   "cell_type": "code",
   "execution_count": 18,
   "id": "999c97ce",
   "metadata": {},
   "outputs": [
    {
     "data": {
      "text/plain": [
       "{1, 2, 3}"
      ]
     },
     "execution_count": 18,
     "metadata": {},
     "output_type": "execute_result"
    }
   ],
   "source": [
    "{1, 2, 3, 3}"
   ]
  },
  {
   "cell_type": "code",
   "execution_count": 19,
   "id": "c214d5c4",
   "metadata": {},
   "outputs": [
    {
     "data": {
      "text/plain": [
       "{1, 2, 3}"
      ]
     },
     "execution_count": 19,
     "metadata": {},
     "output_type": "execute_result"
    }
   ],
   "source": [
    "set([1, 2, 3, 3])"
   ]
  },
  {
   "cell_type": "code",
   "execution_count": 20,
   "id": "287197aa",
   "metadata": {},
   "outputs": [
    {
     "data": {
      "text/plain": [
       "set()"
      ]
     },
     "execution_count": 20,
     "metadata": {},
     "output_type": "execute_result"
    }
   ],
   "source": [
    "s1 = {1, 2, 3}\n",
    "s2 = {4, 5, 6}\n",
    "s1.intersection(s2)"
   ]
  },
  {
   "cell_type": "code",
   "execution_count": 21,
   "id": "f718c5db",
   "metadata": {},
   "outputs": [
    {
     "data": {
      "text/plain": [
       "True"
      ]
     },
     "execution_count": 21,
     "metadata": {},
     "output_type": "execute_result"
    }
   ],
   "source": [
    "1 in [1, 2, 3]"
   ]
  },
  {
   "cell_type": "code",
   "execution_count": 22,
   "id": "5e215c60",
   "metadata": {},
   "outputs": [],
   "source": [
    "s = set()\n",
    "for elem in [1, 2, 3, 3]:\n",
    "  s.add(elem)"
   ]
  },
  {
   "cell_type": "code",
   "execution_count": 23,
   "id": "1479d134",
   "metadata": {},
   "outputs": [
    {
     "data": {
      "text/plain": [
       "{1, 2, 3}"
      ]
     },
     "execution_count": 23,
     "metadata": {},
     "output_type": "execute_result"
    }
   ],
   "source": [
    "s"
   ]
  },
  {
   "cell_type": "code",
   "execution_count": null,
   "id": "7cc913ac",
   "metadata": {},
   "outputs": [],
   "source": []
  },
  {
   "cell_type": "markdown",
   "id": "a84b4848",
   "metadata": {},
   "source": [
    "# Tuples"
   ]
  },
  {
   "cell_type": "code",
   "execution_count": 24,
   "id": "ce2bf1ba",
   "metadata": {},
   "outputs": [
    {
     "data": {
      "text/plain": [
       "[1, 2, 3, 3]"
      ]
     },
     "execution_count": 24,
     "metadata": {},
     "output_type": "execute_result"
    }
   ],
   "source": [
    "[1, 2, 3, 3]"
   ]
  },
  {
   "cell_type": "code",
   "execution_count": 25,
   "id": "b97c54d4",
   "metadata": {},
   "outputs": [
    {
     "data": {
      "text/plain": [
       "(1, 2, 3, 3)"
      ]
     },
     "execution_count": 25,
     "metadata": {},
     "output_type": "execute_result"
    }
   ],
   "source": [
    "(1, 2, 3, 3)"
   ]
  },
  {
   "cell_type": "code",
   "execution_count": 26,
   "id": "5f241f44",
   "metadata": {},
   "outputs": [],
   "source": [
    "lst = [1, 2, 3, 3]"
   ]
  },
  {
   "cell_type": "code",
   "execution_count": 27,
   "id": "a6793932",
   "metadata": {},
   "outputs": [],
   "source": [
    "lst[0] = 5"
   ]
  },
  {
   "cell_type": "code",
   "execution_count": 28,
   "id": "e32301d5",
   "metadata": {},
   "outputs": [
    {
     "data": {
      "text/plain": [
       "[5, 2, 3, 3]"
      ]
     },
     "execution_count": 28,
     "metadata": {},
     "output_type": "execute_result"
    }
   ],
   "source": [
    "lst"
   ]
  },
  {
   "cell_type": "code",
   "execution_count": 29,
   "id": "e11924c1",
   "metadata": {},
   "outputs": [],
   "source": [
    "t = (1, 2, 3, 3)"
   ]
  },
  {
   "cell_type": "code",
   "execution_count": 30,
   "id": "2733f0cc",
   "metadata": {},
   "outputs": [
    {
     "data": {
      "text/plain": [
       "(1, 2, 3, 3, 4)"
      ]
     },
     "execution_count": 30,
     "metadata": {},
     "output_type": "execute_result"
    }
   ],
   "source": [
    "t = t + (4,)\n",
    "t"
   ]
  },
  {
   "cell_type": "code",
   "execution_count": null,
   "id": "978b6924",
   "metadata": {},
   "outputs": [],
   "source": []
  },
  {
   "cell_type": "markdown",
   "id": "52a389a4",
   "metadata": {},
   "source": [
    "# Mutation in Functions "
   ]
  },
  {
   "cell_type": "code",
   "execution_count": 31,
   "id": "111b157d",
   "metadata": {},
   "outputs": [],
   "source": [
    "def f(lst):\n",
    "  x = lst\n",
    "  x[0] = 5"
   ]
  },
  {
   "cell_type": "code",
   "execution_count": 32,
   "id": "857fa3b7",
   "metadata": {},
   "outputs": [
    {
     "ename": "TypeError",
     "evalue": "'tuple' object does not support item assignment",
     "output_type": "error",
     "traceback": [
      "\u001b[1;31m---------------------------------------------------------------------------\u001b[0m",
      "\u001b[1;31mTypeError\u001b[0m                                 Traceback (most recent call last)",
      "\u001b[1;32m<ipython-input-32-394df180daf0>\u001b[0m in \u001b[0;36m<module>\u001b[1;34m\u001b[0m\n\u001b[0;32m      1\u001b[0m \u001b[0mt\u001b[0m \u001b[1;33m=\u001b[0m \u001b[1;33m(\u001b[0m\u001b[1;36m1\u001b[0m\u001b[1;33m,\u001b[0m \u001b[1;36m2\u001b[0m\u001b[1;33m,\u001b[0m \u001b[1;36m3\u001b[0m\u001b[1;33m)\u001b[0m\u001b[1;33m\u001b[0m\u001b[1;33m\u001b[0m\u001b[0m\n\u001b[1;32m----> 2\u001b[1;33m \u001b[0mf\u001b[0m\u001b[1;33m(\u001b[0m\u001b[0mt\u001b[0m\u001b[1;33m)\u001b[0m\u001b[1;33m\u001b[0m\u001b[1;33m\u001b[0m\u001b[0m\n\u001b[0m\u001b[0;32m      3\u001b[0m \u001b[0mt\u001b[0m\u001b[1;33m\u001b[0m\u001b[1;33m\u001b[0m\u001b[0m\n",
      "\u001b[1;32m<ipython-input-31-fc9775c0e1ac>\u001b[0m in \u001b[0;36mf\u001b[1;34m(lst)\u001b[0m\n\u001b[0;32m      1\u001b[0m \u001b[1;32mdef\u001b[0m \u001b[0mf\u001b[0m\u001b[1;33m(\u001b[0m\u001b[0mlst\u001b[0m\u001b[1;33m)\u001b[0m\u001b[1;33m:\u001b[0m\u001b[1;33m\u001b[0m\u001b[1;33m\u001b[0m\u001b[0m\n\u001b[0;32m      2\u001b[0m   \u001b[0mx\u001b[0m \u001b[1;33m=\u001b[0m \u001b[0mlst\u001b[0m\u001b[1;33m\u001b[0m\u001b[1;33m\u001b[0m\u001b[0m\n\u001b[1;32m----> 3\u001b[1;33m   \u001b[0mx\u001b[0m\u001b[1;33m[\u001b[0m\u001b[1;36m0\u001b[0m\u001b[1;33m]\u001b[0m \u001b[1;33m=\u001b[0m \u001b[1;36m5\u001b[0m\u001b[1;33m\u001b[0m\u001b[1;33m\u001b[0m\u001b[0m\n\u001b[0m",
      "\u001b[1;31mTypeError\u001b[0m: 'tuple' object does not support item assignment"
     ]
    }
   ],
   "source": [
    "t = (1, 2, 3)\n",
    "f(t)\n",
    "t"
   ]
  },
  {
   "cell_type": "code",
   "execution_count": null,
   "id": "b9b5175a",
   "metadata": {},
   "outputs": [],
   "source": []
  },
  {
   "cell_type": "markdown",
   "id": "61e2a366",
   "metadata": {},
   "source": [
    "# Strings in Depth"
   ]
  },
  {
   "cell_type": "code",
   "execution_count": 33,
   "id": "33474d20",
   "metadata": {},
   "outputs": [
    {
     "data": {
      "text/plain": [
       "'Hi my name is Shahid'"
      ]
     },
     "execution_count": 33,
     "metadata": {},
     "output_type": "execute_result"
    }
   ],
   "source": [
    "\"Hi my name is Shahid\""
   ]
  },
  {
   "cell_type": "code",
   "execution_count": 34,
   "id": "3d95c8ba",
   "metadata": {},
   "outputs": [],
   "source": [
    "sentence = \"My name is \""
   ]
  },
  {
   "cell_type": "code",
   "execution_count": 35,
   "id": "d088e4f9",
   "metadata": {},
   "outputs": [],
   "source": [
    "sentence = sentence + \"Shahid\""
   ]
  },
  {
   "cell_type": "code",
   "execution_count": 36,
   "id": "9c8e62a0",
   "metadata": {},
   "outputs": [],
   "source": [
    "t = (1, 2, 3)"
   ]
  },
  {
   "cell_type": "code",
   "execution_count": 37,
   "id": "54774ca7",
   "metadata": {},
   "outputs": [],
   "source": [
    "sentence = sentence + \"Hello\""
   ]
  },
  {
   "cell_type": "code",
   "execution_count": 38,
   "id": "1734a95c",
   "metadata": {},
   "outputs": [
    {
     "data": {
      "text/plain": [
       "'My name is ShahidHello'"
      ]
     },
     "execution_count": 38,
     "metadata": {},
     "output_type": "execute_result"
    }
   ],
   "source": [
    "sentence"
   ]
  },
  {
   "cell_type": "code",
   "execution_count": 39,
   "id": "b202f2f0",
   "metadata": {},
   "outputs": [
    {
     "data": {
      "text/plain": [
       "'Hy name is ShahidHello'"
      ]
     },
     "execution_count": 39,
     "metadata": {},
     "output_type": "execute_result"
    }
   ],
   "source": [
    "sentence = \"H\" + sentence[1:]\n",
    "sentence"
   ]
  },
  {
   "cell_type": "code",
   "execution_count": 40,
   "id": "04308331",
   "metadata": {},
   "outputs": [
    {
     "data": {
      "text/plain": [
       "[2, 3]"
      ]
     },
     "execution_count": 40,
     "metadata": {},
     "output_type": "execute_result"
    }
   ],
   "source": [
    "lst = [1, 2, 3]\n",
    "lst[1:]"
   ]
  },
  {
   "cell_type": "code",
   "execution_count": 41,
   "id": "8d4e5cf6",
   "metadata": {},
   "outputs": [
    {
     "name": "stdout",
     "output_type": "stream",
     "text": [
      "H\n",
      "y\n",
      " \n",
      "n\n",
      "a\n",
      "m\n",
      "e\n",
      " \n",
      "i\n",
      "s\n",
      " \n",
      "S\n",
      "h\n",
      "a\n",
      "h\n",
      "i\n",
      "d\n",
      "H\n",
      "e\n",
      "l\n",
      "l\n",
      "o\n"
     ]
    }
   ],
   "source": [
    "for character in sentence:\n",
    "  print(character)"
   ]
  },
  {
   "cell_type": "code",
   "execution_count": null,
   "id": "747c3091",
   "metadata": {},
   "outputs": [],
   "source": []
  },
  {
   "cell_type": "markdown",
   "id": "fd8db72b",
   "metadata": {},
   "source": [
    "# Types Summary"
   ]
  },
  {
   "cell_type": "code",
   "execution_count": 42,
   "id": "ec58000e",
   "metadata": {},
   "outputs": [],
   "source": [
    "i = 7\n",
    "f = 5.2\n",
    "s = \"Hi\"\n",
    "t = (1, 2, 3)\n",
    "\n",
    "lst = [1, 2, 3]\n",
    "sett = {1, 4, 2, 3}\n",
    "d = {'a':1, 'd':4, 'b':2, 'c':3}"
   ]
  },
  {
   "cell_type": "code",
   "execution_count": 44,
   "id": "077deb85",
   "metadata": {},
   "outputs": [
    {
     "ename": "SyntaxError",
     "evalue": "invalid syntax (<ipython-input-44-6ea7607d05c7>, line 5)",
     "output_type": "error",
     "traceback": [
      "\u001b[1;36m  File \u001b[1;32m\"<ipython-input-44-6ea7607d05c7>\"\u001b[1;36m, line \u001b[1;32m5\u001b[0m\n\u001b[1;33m    for elem in lst\u001b[0m\n\u001b[1;37m                   ^\u001b[0m\n\u001b[1;31mSyntaxError\u001b[0m\u001b[1;31m:\u001b[0m invalid syntax\n"
     ]
    }
   ],
   "source": [
    "lst[0]\n",
    "t[0]\n",
    "s[0]\n",
    "\n",
    "for elem in lst\n",
    "for elem in sett\n",
    "for elem in d\n",
    "for elem in t"
   ]
  },
  {
   "cell_type": "code",
   "execution_count": 45,
   "id": "d83655f6",
   "metadata": {},
   "outputs": [
    {
     "name": "stdout",
     "output_type": "stream",
     "text": [
      "1\n",
      "2\n",
      "3\n"
     ]
    }
   ],
   "source": [
    "for elem in t:\n",
    "  print(elem)\n"
   ]
  },
  {
   "cell_type": "code",
   "execution_count": null,
   "id": "50f08834",
   "metadata": {},
   "outputs": [],
   "source": []
  },
  {
   "cell_type": "markdown",
   "id": "e1c9922e",
   "metadata": {},
   "source": [
    "# Final Project\n",
    "Write a function f(l) where  is a list of numbers, that possibly has duplicate values.f(l)  must return a dictionary , where 's keys are the unique values in .  must be sorted so that its keys are in increasing order. 's values must be the string of either \"divisible by 3\" or \"not divisible by 3\", which is dependent on each key. Each value  in  is >0 .\n",
    "\n",
    "Example:\n",
    "\n",
    "f([1,3,3,2,7]) =>\n",
    "\n",
    "{\n",
    "\n",
    "1:'not divisible by 3',\n",
    "\n",
    "2:'not divisible by 3',\n",
    "\n",
    "3:'divisible by 3',\n",
    "\n",
    "7:'not divisible by 3'\n",
    "\n",
    "}"
   ]
  },
  {
   "cell_type": "code",
   "execution_count": 46,
   "id": "127bfe65",
   "metadata": {},
   "outputs": [],
   "source": [
    "def f(l):\n",
    "  l_as_set = set(l)\n",
    "\n",
    "  d = {}\n",
    "  for num in l_as_set:\n",
    "    d[num] = 0\n",
    "  \n",
    "  for key in d:\n",
    "    if (key % 3) == 0:\n",
    "      d[key] = 'divisible by 3'\n",
    "    else:\n",
    "      d[key] = 'not divisible by 3'\n",
    "  return d"
   ]
  },
  {
   "cell_type": "code",
   "execution_count": 47,
   "id": "227c6ed9",
   "metadata": {},
   "outputs": [
    {
     "data": {
      "text/plain": [
       "{1: 'not divisible by 3',\n",
       " 2: 'not divisible by 3',\n",
       " 3: 'divisible by 3',\n",
       " 7: 'not divisible by 3'}"
      ]
     },
     "execution_count": 47,
     "metadata": {},
     "output_type": "execute_result"
    }
   ],
   "source": [
    "f([1, 3, 3, 2, 7])"
   ]
  },
  {
   "cell_type": "code",
   "execution_count": null,
   "id": "bc3f95f1",
   "metadata": {},
   "outputs": [],
   "source": []
  },
  {
   "cell_type": "markdown",
   "id": "a44a965b",
   "metadata": {},
   "source": [
    "# Function Tricks"
   ]
  },
  {
   "cell_type": "code",
   "execution_count": 48,
   "id": "ab2e9a06",
   "metadata": {},
   "outputs": [],
   "source": [
    "def f(x=0, y=5, z=15):\n",
    "  print(\"x is \" + str(x))\n",
    "  print(\"y is \" + str(y))\n",
    "  print(\"z is \" + str(z))"
   ]
  },
  {
   "cell_type": "code",
   "execution_count": 49,
   "id": "47382b65",
   "metadata": {},
   "outputs": [
    {
     "ename": "SyntaxError",
     "evalue": "positional argument follows keyword argument (<ipython-input-49-0ebb6bac2d5c>, line 1)",
     "output_type": "error",
     "traceback": [
      "\u001b[1;36m  File \u001b[1;32m\"<ipython-input-49-0ebb6bac2d5c>\"\u001b[1;36m, line \u001b[1;32m1\u001b[0m\n\u001b[1;33m    f(y=25, 5, 10)\u001b[0m\n\u001b[1;37m            ^\u001b[0m\n\u001b[1;31mSyntaxError\u001b[0m\u001b[1;31m:\u001b[0m positional argument follows keyword argument\n"
     ]
    }
   ],
   "source": [
    "f(y=25, 5, 10)"
   ]
  },
  {
   "cell_type": "code",
   "execution_count": null,
   "id": "aaee41e2",
   "metadata": {},
   "outputs": [],
   "source": []
  },
  {
   "cell_type": "markdown",
   "id": "4436ea69",
   "metadata": {},
   "source": [
    "# File IO Reading"
   ]
  },
  {
   "cell_type": "code",
   "execution_count": 51,
   "id": "72770efa",
   "metadata": {},
   "outputs": [
    {
     "ename": "FileNotFoundError",
     "evalue": "[Errno 2] No such file or directory: 'hi.txt'",
     "output_type": "error",
     "traceback": [
      "\u001b[1;31m---------------------------------------------------------------------------\u001b[0m",
      "\u001b[1;31mFileNotFoundError\u001b[0m                         Traceback (most recent call last)",
      "\u001b[1;32m<ipython-input-51-56d5d06768ce>\u001b[0m in \u001b[0;36m<module>\u001b[1;34m\u001b[0m\n\u001b[1;32m----> 1\u001b[1;33m \u001b[1;32mwith\u001b[0m \u001b[0mopen\u001b[0m\u001b[1;33m(\u001b[0m\u001b[1;34m'hi.txt'\u001b[0m\u001b[1;33m,\u001b[0m \u001b[1;34m'r'\u001b[0m\u001b[1;33m)\u001b[0m \u001b[1;32mas\u001b[0m \u001b[0mf\u001b[0m\u001b[1;33m:\u001b[0m\u001b[1;33m\u001b[0m\u001b[1;33m\u001b[0m\u001b[0m\n\u001b[0m\u001b[0;32m      2\u001b[0m   \u001b[0mlst\u001b[0m \u001b[1;33m=\u001b[0m \u001b[0mf\u001b[0m\u001b[1;33m.\u001b[0m\u001b[0mread\u001b[0m\u001b[1;33m(\u001b[0m\u001b[1;33m)\u001b[0m\u001b[1;33m.\u001b[0m\u001b[0msplit\u001b[0m\u001b[1;33m(\u001b[0m\u001b[1;34m'\\n'\u001b[0m\u001b[1;33m)\u001b[0m\u001b[1;33m\u001b[0m\u001b[1;33m\u001b[0m\u001b[0m\n",
      "\u001b[1;31mFileNotFoundError\u001b[0m: [Errno 2] No such file or directory: 'hi.txt'"
     ]
    }
   ],
   "source": [
    "with open('hi.txt', 'r') as f:\n",
    "  lst = f.read().split('\\n')\n"
   ]
  },
  {
   "cell_type": "code",
   "execution_count": 52,
   "id": "73feb838",
   "metadata": {},
   "outputs": [
    {
     "data": {
      "text/plain": [
       "[1, 2, 3]"
      ]
     },
     "execution_count": 52,
     "metadata": {},
     "output_type": "execute_result"
    }
   ],
   "source": [
    "lst"
   ]
  },
  {
   "cell_type": "markdown",
   "id": "26bf8f1f",
   "metadata": {},
   "source": [
    "# with open(\"hey.txt\", 'w') as f:\n",
    "  x = ['hey1', 'hey2']\n",
    "  for a in x:\n",
    "    f.write(a + '\\n')"
   ]
  },
  {
   "cell_type": "code",
   "execution_count": 54,
   "id": "8a7a4646",
   "metadata": {},
   "outputs": [],
   "source": [
    "with open(\"hey.txt\", 'a') as f:\n",
    "  x = ['hey3', 'hey4']\n",
    "  for a in x:\n",
    "    f.write(a + '\\n')"
   ]
  },
  {
   "cell_type": "code",
   "execution_count": 55,
   "id": "6672f4d6",
   "metadata": {},
   "outputs": [
    {
     "name": "stdout",
     "output_type": "stream",
     "text": [
      "hey\n",
      "hello\n"
     ]
    }
   ],
   "source": [
    "a = input('hey\\n')"
   ]
  },
  {
   "cell_type": "code",
   "execution_count": null,
   "id": "e38e4f01",
   "metadata": {},
   "outputs": [],
   "source": []
  },
  {
   "cell_type": "markdown",
   "id": "786f734b",
   "metadata": {},
   "source": [
    "# User Input"
   ]
  },
  {
   "cell_type": "code",
   "execution_count": 56,
   "id": "e0d7c273",
   "metadata": {},
   "outputs": [
    {
     "name": "stdout",
     "output_type": "stream",
     "text": [
      "Give me an integer\n",
      "1\n"
     ]
    }
   ],
   "source": [
    "s = input('Give me an integer\\n')"
   ]
  },
  {
   "cell_type": "code",
   "execution_count": 57,
   "id": "bd5aa3fc",
   "metadata": {},
   "outputs": [
    {
     "data": {
      "text/plain": [
       "1"
      ]
     },
     "execution_count": 57,
     "metadata": {},
     "output_type": "execute_result"
    }
   ],
   "source": [
    "int(s)"
   ]
  },
  {
   "cell_type": "code",
   "execution_count": 58,
   "id": "d5be8aad",
   "metadata": {},
   "outputs": [
    {
     "name": "stdout",
     "output_type": "stream",
     "text": [
      "Give me an integer\n",
      "2\n",
      "Thank you for the integer 2\n"
     ]
    }
   ],
   "source": [
    "a = input('Give me an integer\\n')\n",
    "try:\n",
    "  int(a)\n",
    "  print('Thank you for the integer ' + str(a))\n",
    "except:\n",
    "  print(\"That wasn't an integer!\")"
   ]
  },
  {
   "cell_type": "code",
   "execution_count": null,
   "id": "25f0b433",
   "metadata": {},
   "outputs": [],
   "source": []
  },
  {
   "cell_type": "markdown",
   "id": "61ca3862",
   "metadata": {},
   "source": [
    "# Final Project\n",
    "Create a function\n",
    "\n",
    "write_ints_to_file(output_file_name, input_file_name=' ').\n",
    "The function will read contents from either a file input_file_name*, or if input_file_name is not specified (i.e input_file_name** is the empty string), it will ask the user for input.\n",
    "\n",
    "If the user is asked for input, the program will continue to ask them for input until they input the empty string (nothing).\n",
    "\n",
    "The program will output only the lines which can be read in as integers into the file output_file_name."
   ]
  },
  {
   "cell_type": "code",
   "execution_count": 59,
   "id": "b07546bf",
   "metadata": {},
   "outputs": [],
   "source": [
    "def write_ints_to_file(output_file_name, input_file_name=''):\n",
    "  only_ints = []\n",
    "  if input_file_name:\n",
    "    with open(input_file_name, 'r') as f:\n",
    "      file_contents_as_str = f.read().split('\\n')\n",
    "      for s in file_contents_as_str:\n",
    "        try:\n",
    "          elem_as_int = int(s)\n",
    "          only_ints.append(s)\n",
    "        except:\n",
    "          pass\n",
    "  else:\n",
    "    inp = \"1\"\n",
    "    lines_from_user = []\n",
    "    while inp:\n",
    "      inp = input(\"Give us a line please\\n\")\n",
    "      lines_from_user.append(inp)\n",
    "    for s in lines_from_user:\n",
    "      try:\n",
    "        elem_as_int = int(s)\n",
    "        only_ints.append(s)\n",
    "      except:\n",
    "        pass\n",
    "  \n",
    "  with open(output_file_name, 'w') as f:\n",
    "    for s in only_ints:\n",
    "      f.write(s + '\\n')"
   ]
  },
  {
   "cell_type": "code",
   "execution_count": 60,
   "id": "9825e15a",
   "metadata": {},
   "outputs": [
    {
     "ename": "FileNotFoundError",
     "evalue": "[Errno 2] No such file or directory: 'sample1.txt'",
     "output_type": "error",
     "traceback": [
      "\u001b[1;31m---------------------------------------------------------------------------\u001b[0m",
      "\u001b[1;31mFileNotFoundError\u001b[0m                         Traceback (most recent call last)",
      "\u001b[1;32m<ipython-input-60-375ff2330b1e>\u001b[0m in \u001b[0;36m<module>\u001b[1;34m\u001b[0m\n\u001b[1;32m----> 1\u001b[1;33m \u001b[0mwrite_ints_to_file\u001b[0m\u001b[1;33m(\u001b[0m\u001b[1;34m'hi.txt'\u001b[0m\u001b[1;33m,\u001b[0m \u001b[1;34m'sample1.txt'\u001b[0m\u001b[1;33m)\u001b[0m\u001b[1;33m\u001b[0m\u001b[1;33m\u001b[0m\u001b[0m\n\u001b[0m",
      "\u001b[1;32m<ipython-input-59-e2a2263c3e9e>\u001b[0m in \u001b[0;36mwrite_ints_to_file\u001b[1;34m(output_file_name, input_file_name)\u001b[0m\n\u001b[0;32m      2\u001b[0m   \u001b[0monly_ints\u001b[0m \u001b[1;33m=\u001b[0m \u001b[1;33m[\u001b[0m\u001b[1;33m]\u001b[0m\u001b[1;33m\u001b[0m\u001b[1;33m\u001b[0m\u001b[0m\n\u001b[0;32m      3\u001b[0m   \u001b[1;32mif\u001b[0m \u001b[0minput_file_name\u001b[0m\u001b[1;33m:\u001b[0m\u001b[1;33m\u001b[0m\u001b[1;33m\u001b[0m\u001b[0m\n\u001b[1;32m----> 4\u001b[1;33m     \u001b[1;32mwith\u001b[0m \u001b[0mopen\u001b[0m\u001b[1;33m(\u001b[0m\u001b[0minput_file_name\u001b[0m\u001b[1;33m,\u001b[0m \u001b[1;34m'r'\u001b[0m\u001b[1;33m)\u001b[0m \u001b[1;32mas\u001b[0m \u001b[0mf\u001b[0m\u001b[1;33m:\u001b[0m\u001b[1;33m\u001b[0m\u001b[1;33m\u001b[0m\u001b[0m\n\u001b[0m\u001b[0;32m      5\u001b[0m       \u001b[0mfile_contents_as_str\u001b[0m \u001b[1;33m=\u001b[0m \u001b[0mf\u001b[0m\u001b[1;33m.\u001b[0m\u001b[0mread\u001b[0m\u001b[1;33m(\u001b[0m\u001b[1;33m)\u001b[0m\u001b[1;33m.\u001b[0m\u001b[0msplit\u001b[0m\u001b[1;33m(\u001b[0m\u001b[1;34m'\\n'\u001b[0m\u001b[1;33m)\u001b[0m\u001b[1;33m\u001b[0m\u001b[1;33m\u001b[0m\u001b[0m\n\u001b[0;32m      6\u001b[0m       \u001b[1;32mfor\u001b[0m \u001b[0ms\u001b[0m \u001b[1;32min\u001b[0m \u001b[0mfile_contents_as_str\u001b[0m\u001b[1;33m:\u001b[0m\u001b[1;33m\u001b[0m\u001b[1;33m\u001b[0m\u001b[0m\n",
      "\u001b[1;31mFileNotFoundError\u001b[0m: [Errno 2] No such file or directory: 'sample1.txt'"
     ]
    }
   ],
   "source": [
    "write_ints_to_file('hi.txt', 'sample1.txt')"
   ]
  },
  {
   "cell_type": "code",
   "execution_count": null,
   "id": "189ce554",
   "metadata": {},
   "outputs": [],
   "source": []
  }
 ],
 "metadata": {
  "kernelspec": {
   "display_name": "Python 3",
   "language": "python",
   "name": "python3"
  },
  "language_info": {
   "codemirror_mode": {
    "name": "ipython",
    "version": 3
   },
   "file_extension": ".py",
   "mimetype": "text/x-python",
   "name": "python",
   "nbconvert_exporter": "python",
   "pygments_lexer": "ipython3",
   "version": "3.8.8"
  }
 },
 "nbformat": 4,
 "nbformat_minor": 5
}
